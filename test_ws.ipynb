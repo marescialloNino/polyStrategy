{
 "cells": [
  {
   "cell_type": "code",
   "execution_count": 2,
   "metadata": {},
   "outputs": [],
   "source": [
    "# Cell 1: Imports and Setup\n",
    "import asyncio\n",
    "import logging\n",
    "import os\n",
    "from dotenv import load_dotenv\n",
    "from src.core.polymarket_websocket_client import PolymarketWebSocketClient\n",
    "\n",
    "# Configure logging\n",
    "logging.basicConfig(\n",
    "    level=logging.INFO,\n",
    "    format=\"%(asctime)s - %(levelname)s - %(message)s\",\n",
    "    handlers=[logging.StreamHandler()]\n",
    ")\n",
    "\n",
    "# Load environment variables\n",
    "load_dotenv()\n",
    "API_KEY = os.getenv(\"POLYMARKET_API_KEY\")\n",
    "API_SECRET = os.getenv(\"POLYMARKET_API_SECRET\")\n",
    "API_PASSPHRASE = os.getenv(\"POLYMARKET_API_PASSPHRASE\")\n"
   ]
  },
  {
   "cell_type": "code",
   "execution_count": 3,
   "metadata": {},
   "outputs": [
    {
     "data": {
      "text/plain": [
       "<Task pending name='Task-4' coro=<test_websocket() running at /var/folders/qq/b2n1bnrj4dd7b2qz0_1_8gfm0000gn/T/ipykernel_11305/165134432.py:15>>"
      ]
     },
     "execution_count": 3,
     "metadata": {},
     "output_type": "execute_result"
    },
    {
     "name": "stderr",
     "output_type": "stream",
     "text": [
      "2025-04-01 18:43:52,799 - INFO - Starting WebSocket client...\n",
      "2025-04-01 18:43:52,803 - INFO - Listening for messages for 60 seconds...\n",
      "2025-04-01 18:43:52,808 - INFO - Trying to establish WebSocket connection\n",
      "2025-04-01 18:43:53,024 - INFO - Connected to WebSocket on channel user\n",
      "2025-04-01 18:43:53,029 - INFO - Subscribed to user channel\n"
     ]
    }
   ],
   "source": [
    "\n",
    "# Cell 2: Message Handler\n",
    "async def message_handler(message):\n",
    "    \"\"\"Handle incoming WebSocket messages\"\"\"\n",
    "    if isinstance(message, list):\n",
    "        for msg in message:\n",
    "            event_type = msg.get(\"event_type\")\n",
    "            if event_type:\n",
    "                logging.info(f\"Received {event_type} message: {msg}\")\n",
    "            else:\n",
    "                logging.info(f\"Received message: {msg}\")\n",
    "    else:\n",
    "        logging.info(f\"Received message: {message}\")\n",
    "\n",
    "# Cell 3: WebSocket Test Function\n",
    "async def test_websocket():\n",
    "    \"\"\"Test WebSocket connection\"\"\"\n",
    "    # Initialize WebSocket client\n",
    "    ws_client = PolymarketWebSocketClient(\n",
    "        api_key=API_KEY,\n",
    "        api_secret=API_SECRET,\n",
    "        api_passphrase=API_PASSPHRASE,\n",
    "        message_callback=message_handler,\n",
    "        ws_url=\"wss://ws-subscriptions-clob.polymarket.com/ws/\"\n",
    "    )\n",
    "    \n",
    "    logging.info(\"Starting WebSocket client...\")\n",
    "    \n",
    "    # Example market condition IDs (replace with real ones from your markets)\n",
    "    test_markets = [\n",
    "        \"112744708863056390222838400251590316345033278599357903193546628977027180579530\"\n",
    "    ]\n",
    "    \n",
    "    # Start the client and subscribe to user channel with specific markets\n",
    "    task = await ws_client.start(\n",
    "        channel_type=\"user\",\n",
    "        markets=test_markets\n",
    "    )\n",
    "    \n",
    "    try:\n",
    "        # Run for 60 seconds to capture messages\n",
    "        logging.info(\"Listening for messages for 60 seconds...\")\n",
    "        await asyncio.sleep(60)\n",
    "    except Exception as e:\n",
    "        logging.error(f\"Error during WebSocket test: {e}\")\n",
    "    finally:\n",
    "        # Clean up\n",
    "        await ws_client.stop()\n",
    "        logging.info(\"WebSocket test completed\")\n",
    "\n",
    "# Cell 4: Run the Test\n",
    "# In Jupyter, we need to handle the event loop differently\n",
    "def run_test():\n",
    "    loop = asyncio.get_event_loop()\n",
    "    if loop.is_running():\n",
    "        # If running in Jupyter, use this approach\n",
    "        task = asyncio.ensure_future(test_websocket())\n",
    "        return task\n",
    "    else:\n",
    "        # If running outside Jupyter, use this\n",
    "        asyncio.run(test_websocket())\n",
    "\n",
    "# Execute the test\n",
    "run_test()"
   ]
  },
  {
   "cell_type": "code",
   "execution_count": null,
   "metadata": {},
   "outputs": [],
   "source": []
  }
 ],
 "metadata": {
  "kernelspec": {
   "display_name": "Python 3 (ipykernel)",
   "language": "python",
   "name": "python3"
  }
 },
 "nbformat": 4,
 "nbformat_minor": 2
}
