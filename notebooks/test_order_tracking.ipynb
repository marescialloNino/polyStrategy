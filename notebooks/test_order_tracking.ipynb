{
 "cells": [
  {
   "cell_type": "code",
   "execution_count": 1,
   "metadata": {},
   "outputs": [
    {
     "name": "stdout",
     "output_type": "stream",
     "text": [
      "PolymarketClient initialized with address: 0xA8fdCA71fa876ab477B3b5d4725292FFDacCd04F\n",
      "\n",
      "Token 1 (YES) price: 0.58\n",
      "Token 2 (NO) price: 0.43\n"
     ]
    }
   ],
   "source": [
    "import sys\n",
    "import os\n",
    "import asyncio\n",
    "import logging\n",
    "from datetime import datetime\n",
    "\n",
    "# Add the project root to Python path\n",
    "sys.path.insert(0, os.path.abspath('..'))\n",
    "\n",
    "from src.core.clob_client import PolymarketClient\n",
    "from src.execution.order_tracker import OrderTracker\n",
    "from py_clob_client.clob_types import OrderArgs\n",
    "\n",
    "# Configure logging\n",
    "logging.basicConfig(\n",
    "    level=logging.INFO,\n",
    "    format='%(asctime)s - %(levelname)s - %(message)s'\n",
    ")\n",
    "\n",
    "async def handle_order_filled(order):\n",
    "    \"\"\"Callback for when an order is filled\"\"\"\n",
    "    print(f\"\\nOrder filled callback:\")\n",
    "    print(f\"Order ID: {order.order_id}\")\n",
    "    print(f\"Filled quantity: {order.filled_quantity}\")\n",
    "    print(f\"Price: {order.price}\")\n",
    "\n",
    "\n",
    "# Initialize the Polymarket client\n",
    "client = PolymarketClient()\n",
    "\n",
    "# Get token IDs\n",
    "token1_id = \"43186308813322774389511655009441265359358460001746875331763940432725323754100\"\n",
    "token2_id = \"42475543248404210065990230898512565125915441850041772863138114442518722564349\"\n",
    "\n",
    "# Get current market prices\n",
    "token1_price = client.get_price(token1_id, \"SELL\")  # Best ask price for buying\n",
    "token2_price = client.get_price(token2_id, \"SELL\")\n",
    "\n",
    "print(f\"\\nToken 1 (YES) price: {token1_price}\")\n",
    "print(f\"Token 2 (NO) price: {token2_price}\")\n"
   ]
  },
  {
   "cell_type": "code",
   "execution_count": 5,
   "metadata": {},
   "outputs": [
    {
     "name": "stdout",
     "output_type": "stream",
     "text": [
      "PolymarketClient initialized with address: 0xA8fdCA71fa876ab477B3b5d4725292FFDacCd04F\n",
      "Placing LIMIT order: BUY 5.0 of 43186308813322774389511655009441265359358460001746875331763940432725323754100 at 0.29\n",
      "{'errorMsg': '', 'orderID': '0xb36c883a68c0dfabf2e02c9e35520738c175bc33fd059ee363e983bfed7e2f1b', 'takingAmount': '', 'makingAmount': '', 'status': 'live', 'transactionsHashes': None, 'success': True}\n"
     ]
    }
   ],
   "source": [
    "from src.execution.order_executor import OrderExecutor\n",
    "\n",
    "# Initialize order tracker and executor\n",
    "executor = OrderExecutor()\n",
    "order_tracker = OrderTracker(\n",
    "    callback=handle_order_filled,\n",
    "    executor=executor,\n",
    "    status_check_interval=10,  # Check every 10 seconds\n",
    "    cleanup_interval=60        # Cleanup every minute\n",
    ")\n",
    "\n",
    "# Create a signal for the order\n",
    "signal = {\n",
    "    \"token_id\": token1_id,\n",
    "    \"order_type\": \"limit\",\n",
    "    \"side\": \"BUY\",\n",
    "    \"quantity\": 5.0,  # of shares\n",
    "    \"price\": round(token1_price * 0.5, 2)  # Place order 5% below market\n",
    "}\n",
    "\n",
    "# Place the order using the executor\n",
    "response = executor.execute_signal(signal)\n",
    "print(response)\n"
   ]
  },
  {
   "cell_type": "code",
   "execution_count": 7,
   "metadata": {},
   "outputs": [
    {
     "name": "stderr",
     "output_type": "stream",
     "text": [
      "2025-03-19 23:24:29,319 - INFO - Started tracking order 0xb36c883a68c0dfabf2e02c9e35520738c175bc33fd059ee363e983bfed7e2f1b with 1 minute timeout\n"
     ]
    },
    {
     "name": "stdout",
     "output_type": "stream",
     "text": [
      "Started tracking order: 0xb36c883a68c0dfabf2e02c9e35520738c175bc33fd059ee363e983bfed7e2f1b\n"
     ]
    }
   ],
   "source": [
    "if response and response.get(\"status\") == \"live\" and response.get(\"success\"):\n",
    "    # Start tracking the order\n",
    "    await order_tracker.track_order(\n",
    "        order_id=response[\"orderID\"],\n",
    "        token_id=signal[\"token_id\"],\n",
    "        side=signal[\"side\"],\n",
    "        quantity=signal[\"quantity\"],\n",
    "        price=signal[\"price\"],\n",
    "        timeout_minutes=1\n",
    "    )\n",
    "    print(f\"Started tracking order: {response['orderID']}\")\n",
    "else:\n",
    "    print(f\"Order placement failed or invalid response: {response}\")"
   ]
  },
  {
   "cell_type": "code",
   "execution_count": 11,
   "metadata": {},
   "outputs": [
    {
     "name": "stdout",
     "output_type": "stream",
     "text": [
      "Cancelling all orders.\n"
     ]
    },
    {
     "data": {
      "text/plain": [
       "{'not_canceled': {},\n",
       " 'canceled': ['0xb36c883a68c0dfabf2e02c9e35520738c175bc33fd059ee363e983bfed7e2f1b']}"
      ]
     },
     "execution_count": 11,
     "metadata": {},
     "output_type": "execute_result"
    }
   ],
   "source": [
    "# Get all open orders\n",
    "open_orders = executor.client.get_open_orders()\n",
    "\n",
    "executor.cancel_all_orders()"
   ]
  }
 ],
 "metadata": {
  "kernelspec": {
   "display_name": "Python 3 (ipykernel)",
   "language": "python",
   "name": "python3"
  },
  "language_info": {
   "codemirror_mode": {
    "name": "ipython",
    "version": 3
   },
   "file_extension": ".py",
   "mimetype": "text/x-python",
   "name": "python",
   "nbconvert_exporter": "python",
   "pygments_lexer": "ipython3",
   "version": "3.10.2"
  }
 },
 "nbformat": 4,
 "nbformat_minor": 2
}
