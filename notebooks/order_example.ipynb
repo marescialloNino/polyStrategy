{
 "cells": [
  {
   "cell_type": "code",
   "execution_count": 1,
   "metadata": {},
   "outputs": [
    {
     "name": "stdout",
     "output_type": "stream",
     "text": [
      "Total markets found: 15\n",
      "Question: Will Bournemouth finish in 2nd place for the 2024-25 EPL season?, Event ID: 523124, Volume: 211076.443568, Active: True, Enabled Order book: True\n",
      "clobTokenIds  [\"15576313442574913402521764960674801503672915218499248228128007520844494427286\", \"50542257714266742622884001930480754601213392103803280706827500013923368351392\"],\n",
      "Question: Will Brentford finish in 2nd place for the 2024-25 EPL season?, Event ID: 523125, Volume: 232296.590666, Active: True, Enabled Order book: True\n",
      "clobTokenIds  [\"4477077216676555244043217245689278106787916298196387802721996093357618965741\", \"8522168098161230802844024089128070699875073770724405654015657935229478751710\"],\n",
      "Question: Will Everton finish in 2nd place for the 2024-25 EPL season?, Event ID: 523129, Volume: 400630.893448, Active: True, Enabled Order book: True\n",
      "clobTokenIds  [\"63111461357480006726724481745334342066468177262121041772463186326458176716028\", \"59655744072020397343697223786237119808032777052980648662474494288356216199838\"],\n",
      "Question: Will Fulham finish in 2nd place for the 2024-25 EPL season?, Event ID: 523130, Volume: 139153.047069, Active: True, Enabled Order book: True\n",
      "clobTokenIds  [\"106911810579002887851117360453283551052812459825145176349807063083715673364588\", \"26605371156540297119902358582904497142713494436809684918907538340639923277400\"],\n",
      "Question: Will Manchester United finish in 2nd place for the 2024-25 EPL season?, Event ID: 523135, Volume: 61011.95635, Active: True, Enabled Order book: True\n",
      "clobTokenIds  [\"10136762548473451269170898541903603881997429187160940400261526221086295996519\", \"38267742653385084289741379211961631569641912977896477588061868210664663404362\"],\n",
      "Question: Will Tottenham finish in 2nd place for the 2024-25 EPL season?, Event ID: 523140, Volume: 229548.751831, Active: True, Enabled Order book: True\n",
      "clobTokenIds  [\"50451042169786079030477281923365458570023369515627053232395597746113618860168\", \"35399587352913541487299209671298828550788595584246590875591549961288814740818\"],\n",
      "Question: Will West Ham finish in 2nd place for the 2024-25 EPL season?, Event ID: 523141, Volume: 90358.963036, Active: True, Enabled Order book: True\n",
      "clobTokenIds  [\"45266299380596839777775087901618168255691214133188232903414147754737097686699\", \"3032141358047476906388465628638862269515964419607453278817556981979593374935\"],\n",
      "Question: Gold missing from Fort Knox?, Event ID: 523912, Volume: 1160827.472892, Active: True, Enabled Order book: True\n",
      "clobTokenIds  [\"32918153951387922947576940063260034292998768161845656903772877315628059109154\", \"15895193064152448584693756238479461228978316613073162117632073580034160093379\"],\n",
      "Question: Will the Los Angeles Angels win the 2025 World Series?, Event ID: 525397, Volume: 220732.560457, Active: True, Enabled Order book: True\n",
      "clobTokenIds  [\"104193686836991237472003738633816565614703019834392612844898965987270329944249\", \"94779827219440614176419885320993852566793898145769679038757449083926354871594\"],\n",
      "Question: Will the Athletics win the 2025 World Series?, Event ID: 525399, Volume: 93894.6524, Active: True, Enabled Order book: True\n",
      "clobTokenIds  [\"27138221980365336185954867797239485693765810862592484051086629809873323135558\", \"50127557176519559686910299770068159513001149007122402013568093267649899311697\"],\n",
      "Question: Will the Miami Marlins win the 2025 World Series?, Event ID: 525403, Volume: 67299.1195, Active: True, Enabled Order book: True\n",
      "clobTokenIds  [\"83270619423484381201530312732234448924093933815063026215238253671316534603282\", \"10829605406883730543268953285361214756032143320251044654736722072522371619991\"],\n",
      "Question: Will the Pittsburgh Pirates win the 2025 World Series?, Event ID: 525409, Volume: 96640.056764, Active: True, Enabled Order book: True\n",
      "clobTokenIds  [\"72377798097654455759533432321020341886316392711658719444931085520063213092645\", \"7392061976604430507412672330914165381358905600083942855110845387390184724927\"],\n",
      "Question: Trump releases Epstein list today?, Event ID: 525726, Volume: 8192269.224193, Active: True, Enabled Order book: True\n",
      "clobTokenIds  [\"53991205535397185196292444587899654425036926800380629851404142367998681248725\", \"10668608784716997131805813528613597787690261896614905218917225091156526243112\"],\n",
      "Question: Bitcoin above $84,000 on March 7?, Event ID: 526067, Volume: 860423.119505, Active: True, Enabled Order book: True\n",
      "clobTokenIds  [\"26208742573420406262318661661944845485925536996268070025890012912394734994313\", \"18003882577351671418248818677345548048483160862193684894287536962358507967490\"],\n",
      "Question: Ethereum above $2,300 on March 7?, Event ID: 526068, Volume: 659785.651509, Active: True, Enabled Order book: True\n",
      "clobTokenIds  [\"92930379607706033283721597814402539698709488112846469860903964510902202102183\", \"77195044185199490561568577007991723729736511951407557960960506381086921913841\"],\n"
     ]
    }
   ],
   "source": [
    "from src.core.gamma_client import GammaMarketsClient\n",
    "from src.execution.order_executor import OrderExecutor\n",
    "from src.core.clob_client import PolymarketClient\n",
    "\n",
    "gamma_client = GammaMarketsClient()\n",
    "\n",
    "# Fetch active events with high liquidity and volume\n",
    "markets = gamma_client.get_markets(\n",
    "    closed=False,  # Exclude closed markets\n",
    "    liquidity_num_min=100000.0,  # Minimum liquidity\n",
    "    volume_num_min=50000.0,  # Minimum trading volume\n",
    "    start_date_min=\"2025-02-10\",  # Markets starting after this date\n",
    "    \n",
    ")\n",
    "\n",
    "if markets:\n",
    "    print(f\"Total markets found: {len(markets)}\")\n",
    "    for market in markets:\n",
    "        # Safely access keys using .get() to avoid KeyError\n",
    "        question = market.get(\"question\", \"N/A\")\n",
    "        event_id = market.get(\"id\", \"N/A\")\n",
    "        volume = market.get(\"volume\", \"N/A\")  # Use .get() to handle missing keys\n",
    "        active = market.get(\"active\", \"N/A\")\n",
    "        closed = market.get(\"closed\", \"N/A\")\n",
    "        clobTokenIds = market.get(\"clobTokenIds\")\n",
    "        orderBook = market.get(\"enableOrderBook\", \"N/A\")\n",
    "        print(f\"Question: {question}, Event ID: {event_id}, Volume: {volume}, Active: {active}, Enabled Order book: {orderBook}\")\n",
    "        print(f\"clobTokenIds  {clobTokenIds},\")\n",
    "else:\n",
    "    print(\"No markets found matching the criteria.\")"
   ]
  },
  {
   "cell_type": "code",
   "execution_count": 2,
   "metadata": {},
   "outputs": [
    {
     "name": "stdout",
     "output_type": "stream",
     "text": [
      "Order Book:\n",
      "OrderBookSummary(market='0xc4ccf5b4e94d9be31598aef97fd85dc0f0d9d18f6415256bf3504029c3e7c054', asset_id='26208742573420406262318661661944845485925536996268070025890012912394734994313', timestamp='1740941027612', bids=[OrderSummary(price='0.01', size='530033'), OrderSummary(price='0.02', size='10000'), OrderSummary(price='0.03', size='5000'), OrderSummary(price='0.04', size='1500'), OrderSummary(price='0.05', size='1300'), OrderSummary(price='0.06', size='1200'), OrderSummary(price='0.07', size='1100'), OrderSummary(price='0.08', size='1000'), OrderSummary(price='0.09', size='900'), OrderSummary(price='0.1', size='800'), OrderSummary(price='0.11', size='6724'), OrderSummary(price='0.2', size='130'), OrderSummary(price='0.26', size='42'), OrderSummary(price='0.28', size='1188'), OrderSummary(price='0.29', size='199.6'), OrderSummary(price='0.35', size='150'), OrderSummary(price='0.38', size='150.79'), OrderSummary(price='0.4', size='160'), OrderSummary(price='0.48', size='500'), OrderSummary(price='0.49', size='1036'), OrderSummary(price='0.5', size='656.48'), OrderSummary(price='0.51', size='645.85'), OrderSummary(price='0.52', size='50'), OrderSummary(price='0.54', size='436.74'), OrderSummary(price='0.55', size='100'), OrderSummary(price='0.56', size='100'), OrderSummary(price='0.6', size='402'), OrderSummary(price='0.65', size='4000'), OrderSummary(price='0.66', size='350'), OrderSummary(price='0.67', size='906'), OrderSummary(price='0.72', size='33000'), OrderSummary(price='0.75', size='10'), OrderSummary(price='0.76', size='3561.48'), OrderSummary(price='0.8', size='24610.66'), OrderSummary(price='0.81', size='5330.79'), OrderSummary(price='0.82', size='17100.16'), OrderSummary(price='0.83', size='3200'), OrderSummary(price='0.84', size='13005'), OrderSummary(price='0.85', size='13990.05'), OrderSummary(price='0.86', size='10311.22'), OrderSummary(price='0.87', size='749.99')], asks=[OrderSummary(price='0.99', size='520000'), OrderSummary(price='0.98', size='10822.77'), OrderSummary(price='0.97', size='38000'), OrderSummary(price='0.96', size='8700'), OrderSummary(price='0.95', size='12801.25'), OrderSummary(price='0.94', size='5000'), OrderSummary(price='0.93', size='18150'), OrderSummary(price='0.92', size='2771.09'), OrderSummary(price='0.91', size='3225.5'), OrderSummary(price='0.9', size='14233.3'), OrderSummary(price='0.89', size='11447.81'), OrderSummary(price='0.88', size='3774.84')], hash='aee05f4db10af514a6c8ccaa589ca49df85b0c85')\n",
      "\n",
      "Market Information:\n",
      "Midpoint Price: 0.875\n",
      "Best Buy Price: 0.87\n",
      "Best Sell Price: 0.88\n",
      "Spread: 0.01\n"
     ]
    }
   ],
   "source": [
    "# Question: Bitcoin above $84,000 on March 7?, Event ID: 526067 \n",
    "yes_token= \"26208742573420406262318661661944845485925536996268070025890012912394734994313\"\n",
    "\n",
    "client = PolymarketClient()\n",
    "\n",
    "# Retrieve order book information\n",
    "orderbook = client.get_order_book(yes_token)\n",
    "midpoint = client.get_midpoint_price(yes_token)\n",
    "best_buy = client.get_price(yes_token, \"BUY\")\n",
    "best_sell = client.get_price(yes_token, \"SELL\")\n",
    "spread = client.get_spread(yes_token)\n",
    "\n",
    "\n",
    "print(\"Order Book:\")\n",
    "print(orderbook)\n",
    "print(\"\\nMarket Information:\")\n",
    "print(f\"Midpoint Price: {midpoint}\")\n",
    "print(f\"Best Buy Price: {best_buy}\")\n",
    "print(f\"Best Sell Price: {best_sell}\")\n",
    "print(f\"Spread: {spread}\")"
   ]
  },
  {
   "cell_type": "code",
   "execution_count": 3,
   "metadata": {},
   "outputs": [],
   "source": [
    "from py_clob_client.order_builder.constants import BUY, SELL\n",
    "\n",
    "\n",
    "# Instantiate the order executor\n",
    "executor = OrderExecutor()\n",
    "\n",
    "# Define a signal for a limit order.\n",
    "# In a real strategy, this signal would be generated dynamically.\n",
    "signal = {\n",
    "    \"token_id\": yes_token,\n",
    "    \"order_type\": \"limit\",\n",
    "    \"side\": BUY,\n",
    "    \"price\": 0.03,      \n",
    "    \"quantity\": 1.0   \n",
    "}"
   ]
  },
  {
   "cell_type": "code",
   "execution_count": 4,
   "metadata": {},
   "outputs": [
    {
     "name": "stdout",
     "output_type": "stream",
     "text": [
      "Placing LIMIT order: BUY 1.0 of 26208742573420406262318661661944845485925536996268070025890012912394734994313 at 0.03\n",
      "Error placing limit order for 26208742573420406262318661661944845485925536996268070025890012912394734994313: Invalid order inputs\n",
      "\n",
      "Limit Order Response:\n",
      "None\n"
     ]
    }
   ],
   "source": [
    "order_response = executor.execute_signal(signal)\n",
    "print(\"\\nLimit Order Response:\")\n",
    "print(order_response)"
   ]
  },
  {
   "cell_type": "code",
   "execution_count": 5,
   "metadata": {},
   "outputs": [
    {
     "name": "stdout",
     "output_type": "stream",
     "text": [
      "\n",
      "No order ID found in response; cannot cancel the order.\n"
     ]
    }
   ],
   "source": [
    "# If the order_response contains an order ID, cancel the order.\n",
    "order_id = order_response.get(\"order_id\") if isinstance(order_response, dict) else None\n",
    "if order_id:\n",
    "    print(f\"\\nOrder placed with ID: {order_id}. Now cancelling...\")\n",
    "    cancel_response = executor.cancel_order(order_id)\n",
    "    print(\"Cancel Order Response:\")\n",
    "    print(cancel_response)\n",
    "else:\n",
    "    print(\"\\nNo order ID found in response; cannot cancel the order.\")"
   ]
  }
 ],
 "metadata": {
  "kernelspec": {
   "display_name": "Python 3 (ipykernel)",
   "language": "python",
   "name": "python3"
  },
  "language_info": {
   "codemirror_mode": {
    "name": "ipython",
    "version": 3
   },
   "file_extension": ".py",
   "mimetype": "text/x-python",
   "name": "python",
   "nbconvert_exporter": "python",
   "pygments_lexer": "ipython3",
   "version": "3.10.2"
  }
 },
 "nbformat": 4,
 "nbformat_minor": 2
}
