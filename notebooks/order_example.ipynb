{
 "cells": [
  {
   "cell_type": "code",
   "execution_count": 1,
   "metadata": {},
   "outputs": [
    {
     "name": "stdout",
     "output_type": "stream",
     "text": [
      "Total markets found: 15\n",
      "Question: Pacers vs. 76ers, Event ID: 527345, Volume: 83358.702361, Active: True, Enabled Order book: True\n",
      "clobTokenIds  [\"73172394347289567417998045374459361682936575684061905171081280138565392519156\", \"73034600656012510503701960217990813883291128052177861118731748919547774107181\"],\n",
      "Question: Celtics vs. Heat, Event ID: 527346, Volume: 222879.328666, Active: True, Enabled Order book: True\n",
      "clobTokenIds  [\"29698297579308527847537871762106397437012761209817449145690502363235623683398\", \"34525726299971273130539121180310187054066055183246812608837499610382707316549\"],\n",
      "Question: Clippers vs. Hawks, Event ID: 527347, Volume: 53904.497456, Active: True, Enabled Order book: True\n",
      "clobTokenIds  [\"28248240515387231077966974540590263765410109927432806395273400315983826236325\", \"70314975964675501721687033399230625954912094726389051015767161612766419347982\"],\n",
      "Question: Mavericks vs. Rockets, Event ID: 527348, Volume: 108001.686263, Active: True, Enabled Order book: True\n",
      "clobTokenIds  [\"103777535302134347854459159710908820015572209298864451648255978215308711127749\", \"53843744112976530301930619045294229371404642713046607054650864073392171241227\"],\n",
      "Question: Magic vs. Timberwolves, Event ID: 527349, Volume: 48442.341186, Active: True, Enabled Order book: True\n",
      "clobTokenIds  [\"99727543836858592835231876176528228458640901931898784123096527309629551508600\", \"43676866898400213149707713849410696820685536264791738216951547529832594545017\"],\n",
      "Question: Cavaliers vs. Grizzlies, Event ID: 527350, Volume: 65695.409339, Active: True, Enabled Order book: True\n",
      "clobTokenIds  [\"86036812212720193059694360993412061378451985114133352765904502355330901975575\", \"54495856653164276450949958323668423693731564648085906369222377450233587754045\"],\n",
      "Question: Hornets vs. Spurs, Event ID: 527351, Volume: 146127.321293, Active: True, Enabled Order book: True\n",
      "clobTokenIds  [\"30972847602171679177944964758048685784019299957455574212235484766990043524590\", \"3273787241447487004797719272655693047763271930501327963908858303112497369873\"],\n",
      "Question: Lakers vs. Nuggets, Event ID: 527352, Volume: 190006.893967, Active: True, Enabled Order book: True\n",
      "clobTokenIds  [\"33742575639747685699853812042584940102203889236403103957593758529641716730512\", \"87795401582511068719997770740527089014487446711584157744225060237696405386651\"],\n",
      "Question: Raptors vs. Jazz, Event ID: 527353, Volume: 37149.786547, Active: True, Enabled Order book: True\n",
      "clobTokenIds  [\"21385788752010459372986662600221162147598442600729071398447276596404898379089\", \"5866598221419046580719423015819850128978021452371439849336847841981336630943\"],\n",
      "Question: Red Wings vs. Hurricanes, Event ID: 527472, Volume: 18949.456722, Active: True, Enabled Order book: True\n",
      "clobTokenIds  [\"33037522834888583040495167878527044291700670596802316260200866063560454310827\", \"67855026558729923063008298701179603855672927487804438687486611872504832580322\"],\n",
      "Question: Oilers vs. Islanders, Event ID: 527474, Volume: 60951.700684, Active: True, Enabled Order book: True\n",
      "clobTokenIds  [\"10975967275437381172060330999231686524338685099317731304213314828718226771066\", \"8339765277901709067500282312913197584526300856252329372642085206745548931168\"],\n",
      "Question: Stars vs. Jets, Event ID: 527476, Volume: 112930.868088, Active: True, Enabled Order book: True\n",
      "clobTokenIds  [\"54883202066905807487120432198021986396736811539670994396426756957594860919993\", \"106615521164505564444899132191558410774632112637407771343381971046936810370777\"],\n",
      "Question: Avalanche vs. Flames, Event ID: 527478, Volume: 29742.32531, Active: True, Enabled Order book: True\n",
      "clobTokenIds  [\"95646975283958160112931929337273643000816727142459621987718116170250896361879\", \"51854361864918218914517307887755275325091062334173510086386896028361261911112\"],\n",
      "Question: Predators vs. Ducks, Event ID: 527480, Volume: 55892.22715, Active: True, Enabled Order book: True\n",
      "clobTokenIds  [\"19242022041081063043231258270095498073707833692443030032615369641952190194207\", \"25560360044917080528971762886937622819370055677832347750070681899115376399796\"],\n",
      "Question: Utah vs. Kraken, Event ID: 527483, Volume: 25711.81814, Active: True, Enabled Order book: True\n",
      "clobTokenIds  [\"75080251792223543384744549160951281778747394081452200389055252784988579349339\", \"3203141615417066909471607927763173537290352614750462735896278757266616340987\"],\n"
     ]
    }
   ],
   "source": [
    "from src.core.gamma_client import GammaMarketsClient\n",
    "from src.execution.order_executor import OrderExecutor\n",
    "from src.core.clob_client import PolymarketClient\n",
    "from py_clob_client.clob_types import ApiCreds, OrderArgs\n",
    "\n",
    "gamma_client = GammaMarketsClient()\n",
    "\n",
    "# Fetch active events with high liquidity and volume\n",
    "markets = gamma_client.get_markets(\n",
    "    closed=False,  # Exclude closed markets\n",
    "    liquidity_num_min=60000.0,  # Minimum liquidity\n",
    "    volume_num_min=5000.0,  # Minimum trading volume\n",
    "    start_date_min=\"2025-02-28\",  # Markets starting after this date\n",
    "    tag_id=1\n",
    "    \n",
    ")\n",
    "\n",
    "if markets:\n",
    "    print(f\"Total markets found: {len(markets)}\")\n",
    "    for market in markets:\n",
    "        # Safely access keys using .get() to avoid KeyError\n",
    "        question = market.get(\"question\", \"N/A\")\n",
    "        event_id = market.get(\"id\", \"N/A\")\n",
    "        volume = market.get(\"volume\", \"N/A\")  # Use .get() to handle missing keys\n",
    "        active = market.get(\"active\", \"N/A\")\n",
    "        closed = market.get(\"closed\", \"N/A\")\n",
    "        clobTokenIds = market.get(\"clobTokenIds\")\n",
    "        orderBook = market.get(\"enableOrderBook\", \"N/A\")\n",
    "        print(f\"Question: {question}, Event ID: {event_id}, Volume: {volume}, Active: {active}, Enabled Order book: {orderBook}\")\n",
    "        print(f\"clobTokenIds  {clobTokenIds},\")\n",
    "else:\n",
    "    print(\"No markets found matching the criteria.\")"
   ]
  },
  {
   "cell_type": "code",
   "execution_count": 2,
   "metadata": {},
   "outputs": [
    {
     "name": "stdout",
     "output_type": "stream",
     "text": [
      "Order Book:\n",
      "OrderBookSummary(market='0x51b2a9f3fcd56beb0b15d325e087fa82eb285d6316ef0e1a9c67680e89fce6d5', asset_id='29698297579308527847537871762106397437012761209817449145690502363235623683398', timestamp='1741984386978', bids=[OrderSummary(price='0.01', size='501150'), OrderSummary(price='0.02', size='24999'), OrderSummary(price='0.03', size='22222'), OrderSummary(price='0.04', size='50000'), OrderSummary(price='0.05', size='2000'), OrderSummary(price='0.07', size='1430'), OrderSummary(price='0.18', size='556'), OrderSummary(price='0.31', size='700'), OrderSummary(price='0.36', size='278'), OrderSummary(price='0.39', size='990'), OrderSummary(price='0.4', size='2222'), OrderSummary(price='0.48', size='200'), OrderSummary(price='0.5', size='40'), OrderSummary(price='0.6', size='17548'), OrderSummary(price='0.63', size='500'), OrderSummary(price='0.65', size='200'), OrderSummary(price='0.67', size='16009'), OrderSummary(price='0.68', size='5'), OrderSummary(price='0.69', size='10545'), OrderSummary(price='0.7', size='495'), OrderSummary(price='0.71', size='8439'), OrderSummary(price='0.72', size='3846.25'), OrderSummary(price='0.73', size='16021.74'), OrderSummary(price='0.74', size='19518.05'), OrderSummary(price='0.75', size='324.53')], asks=[OrderSummary(price='0.99', size='500000'), OrderSummary(price='0.98', size='24999'), OrderSummary(price='0.97', size='25556'), OrderSummary(price='0.96', size='50000'), OrderSummary(price='0.95', size='2000'), OrderSummary(price='0.94', size='1000'), OrderSummary(price='0.93', size='11111'), OrderSummary(price='0.92', size='1250'), OrderSummary(price='0.91', size='5000'), OrderSummary(price='0.88', size='40716'), OrderSummary(price='0.81', size='23081'), OrderSummary(price='0.8', size='10555'), OrderSummary(price='0.79', size='479'), OrderSummary(price='0.78', size='9279'), OrderSummary(price='0.77', size='26823.55'), OrderSummary(price='0.76', size='33444.06')], hash='034978bfb546a923ec7d0a33d7f5f90b3bd5ca58')\n",
      "\n",
      "Market Information:\n",
      "Midpoint Price: 0.755\n",
      "Best Buy Price: 0.75\n",
      "Best Sell Price: 0.76\n",
      "Spread: 0.01\n"
     ]
    }
   ],
   "source": [
    "# Question: Will Arsenal finish in 2nd place for the 2024-25 EPL season?\n",
    "yes_token= \"29698297579308527847537871762106397437012761209817449145690502363235623683398\"\n",
    "\n",
    "client = PolymarketClient()\n",
    "\n",
    "# Retrieve order book information\n",
    "orderbook = client.get_order_book(yes_token)\n",
    "midpoint = client.get_midpoint_price(yes_token)\n",
    "best_buy = client.get_price(yes_token, \"BUY\")\n",
    "best_sell = client.get_price(yes_token, \"SELL\")\n",
    "spread = client.get_spread(yes_token)\n",
    "\n",
    "\n",
    "print(\"Order Book:\")\n",
    "print(orderbook)\n",
    "print(\"\\nMarket Information:\")\n",
    "print(f\"Midpoint Price: {midpoint}\")\n",
    "print(f\"Best Buy Price: {best_buy}\")\n",
    "print(f\"Best Sell Price: {best_sell}\")\n",
    "print(f\"Spread: {spread}\")"
   ]
  },
  {
   "cell_type": "code",
   "execution_count": 4,
   "metadata": {},
   "outputs": [],
   "source": [
    "from py_clob_client.order_builder.constants import BUY, SELL\n",
    "\n",
    "\n",
    "# Instantiate the order executor\n",
    "executor = OrderExecutor()\n",
    "\n",
    "# Define a signal for a limit order.\n",
    "# In a real strategy, this signal would be generated dynamically.\n",
    "signal = {\n",
    "    \"token_id\": yes_token,\n",
    "    \"order_type\": \"limit\",\n",
    "    \"side\": \"BUY\",\n",
    "    \"price\": 0.10,      \n",
    "    \"quantity\": 10.0   \n",
    "}\n",
    "\n",
    "\n"
   ]
  },
  {
   "cell_type": "code",
   "execution_count": 5,
   "metadata": {},
   "outputs": [
    {
     "name": "stdout",
     "output_type": "stream",
     "text": [
      "Placing LIMIT order: BUY 10.0 of 29698297579308527847537871762106397437012761209817449145690502363235623683398 at 0.1\n",
      "Error in create_and_post_order: Invalid order inputs\n",
      "\n",
      "Limit Order Response:\n",
      "None\n"
     ]
    }
   ],
   "source": [
    "\n",
    "\n",
    "response = executor.execute_signal(signal)\n",
    "print(\"\\nLimit Order Response:\")\n",
    "print(response)"
   ]
  },
  {
   "cell_type": "code",
   "execution_count": 6,
   "metadata": {},
   "outputs": [
    {
     "ename": "NameError",
     "evalue": "name 'order_response' is not defined",
     "output_type": "error",
     "traceback": [
      "\u001b[0;31m---------------------------------------------------------------------------\u001b[0m",
      "\u001b[0;31mNameError\u001b[0m                                 Traceback (most recent call last)",
      "Input \u001b[0;32mIn [6]\u001b[0m, in \u001b[0;36m<cell line: 2>\u001b[0;34m()\u001b[0m\n\u001b[1;32m      1\u001b[0m \u001b[38;5;66;03m# If the order_response contains an order ID, cancel the order.\u001b[39;00m\n\u001b[0;32m----> 2\u001b[0m order_id \u001b[38;5;241m=\u001b[39m order_response\u001b[38;5;241m.\u001b[39mget(\u001b[38;5;124m\"\u001b[39m\u001b[38;5;124morder_id\u001b[39m\u001b[38;5;124m\"\u001b[39m) \u001b[38;5;28;01mif\u001b[39;00m \u001b[38;5;28misinstance\u001b[39m(\u001b[43morder_response\u001b[49m, \u001b[38;5;28mdict\u001b[39m) \u001b[38;5;28;01melse\u001b[39;00m \u001b[38;5;28;01mNone\u001b[39;00m\n\u001b[1;32m      3\u001b[0m \u001b[38;5;28;01mif\u001b[39;00m order_id:\n\u001b[1;32m      4\u001b[0m     \u001b[38;5;28mprint\u001b[39m(\u001b[38;5;124mf\u001b[39m\u001b[38;5;124m\"\u001b[39m\u001b[38;5;130;01m\\n\u001b[39;00m\u001b[38;5;124mOrder placed with ID: \u001b[39m\u001b[38;5;132;01m{\u001b[39;00morder_id\u001b[38;5;132;01m}\u001b[39;00m\u001b[38;5;124m. Now cancelling...\u001b[39m\u001b[38;5;124m\"\u001b[39m)\n",
      "\u001b[0;31mNameError\u001b[0m: name 'order_response' is not defined"
     ]
    }
   ],
   "source": [
    "# If the order_response contains an order ID, cancel the order.\n",
    "order_id = order_response.get(\"order_id\") if isinstance(order_response, dict) else None\n",
    "if order_id:\n",
    "    print(f\"\\nOrder placed with ID: {order_id}. Now cancelling...\")\n",
    "    cancel_response = executor.cancel_order(order_id)\n",
    "    print(\"Cancel Order Response:\")\n",
    "    print(cancel_response)\n",
    "else:\n",
    "    print(\"\\nNo order ID found in response; cannot cancel the order.\")"
   ]
  },
  {
   "cell_type": "code",
   "execution_count": 7,
   "metadata": {},
   "outputs": [
    {
     "name": "stdout",
     "output_type": "stream",
     "text": [
      "Wallet: 0xA8fdCA71fa876ab477B3b5d4725292FFDacCd04F\n",
      "Tick Size: 0.01\n",
      "Order Book: OrderBookSummary(market='0x51b2a9f3fcd56beb0b15d325e087fa82eb285d6316ef0e1a9c67680e89fce6d5', asset_id='29698297579308527847537871762106397437012761209817449145690502363235623683398', timestamp='1741984558045', bids=[OrderSummary(price='0.01', size='501150'), OrderSummary(price='0.02', size='24999'), OrderSummary(price='0.03', size='22222'), OrderSummary(price='0.04', size='50000'), OrderSummary(price='0.05', size='2000'), OrderSummary(price='0.07', size='1430'), OrderSummary(price='0.18', size='556'), OrderSummary(price='0.31', size='700'), OrderSummary(price='0.36', size='278'), OrderSummary(price='0.39', size='990'), OrderSummary(price='0.4', size='2222'), OrderSummary(price='0.48', size='200'), OrderSummary(price='0.5', size='40'), OrderSummary(price='0.6', size='17548'), OrderSummary(price='0.63', size='500'), OrderSummary(price='0.65', size='200'), OrderSummary(price='0.67', size='16009'), OrderSummary(price='0.68', size='5'), OrderSummary(price='0.69', size='10545'), OrderSummary(price='0.7', size='495'), OrderSummary(price='0.71', size='8439'), OrderSummary(price='0.72', size='3846.25'), OrderSummary(price='0.73', size='16021.74'), OrderSummary(price='0.74', size='19518.05'), OrderSummary(price='0.75', size='244.53')], asks=[OrderSummary(price='0.99', size='500000'), OrderSummary(price='0.98', size='24999'), OrderSummary(price='0.97', size='25556'), OrderSummary(price='0.96', size='50000'), OrderSummary(price='0.95', size='2000'), OrderSummary(price='0.94', size='1000'), OrderSummary(price='0.93', size='11111'), OrderSummary(price='0.92', size='1250'), OrderSummary(price='0.91', size='5000'), OrderSummary(price='0.88', size='40716'), OrderSummary(price='0.81', size='23081'), OrderSummary(price='0.8', size='10555'), OrderSummary(price='0.79', size='479'), OrderSummary(price='0.78', size='9279'), OrderSummary(price='0.77', size='26823.55'), OrderSummary(price='0.76', size='16713.74')], hash='96b40915ad4279ab60deea7f4249afe98b555fe3')\n"
     ]
    }
   ],
   "source": [
    "executor = OrderExecutor()\n",
    "yes_token = \"29698297579308527847537871762106397437012761209817449145690502363235623683398\"\n",
    "\n",
    "signal = {\n",
    "    \"token_id\": yes_token,\n",
    "    \"order_type\": \"limit\",\n",
    "    \"side\": BUY,\n",
    "    \"price\": 0.05,\n",
    "    \"quantity\": 5.0\n",
    "}\n",
    "\n",
    "# Debugging info\n",
    "print(f\"Wallet: {executor.client.client.get_address()}\")\n",
    "print(f\"Tick Size: {executor.client.client.get_tick_size(yes_token)}\")\n",
    "print(f\"Order Book: {executor.client.get_order_book(yes_token)}\")\n"
   ]
  },
  {
   "cell_type": "code",
   "execution_count": 8,
   "metadata": {},
   "outputs": [
    {
     "name": "stdout",
     "output_type": "stream",
     "text": [
      "Placing LIMIT order: BUY 5.0 of 29698297579308527847537871762106397437012761209817449145690502363235623683398 at 0.05\n",
      "Error in create_and_post_order: Invalid order inputs\n",
      "\n",
      "Limit Order Response:\n",
      "None\n",
      "\n",
      "Open Orders:\n",
      "[]\n",
      "Cancelling all orders.\n",
      "\n",
      "Open Orders After Cancel:\n",
      "[]\n"
     ]
    }
   ],
   "source": [
    "# Execute order\n",
    "response = executor.execute_signal(signal)\n",
    "print(\"\\nLimit Order Response:\")\n",
    "print(response)\n",
    "\n",
    "# Check orders\n",
    "print(\"\\nOpen Orders:\")\n",
    "print(executor.client.get_open_orders())\n",
    "\n",
    "# Cancel all\n",
    "executor.cancel_all_orders()\n",
    "print(\"\\nOpen Orders After Cancel:\")\n",
    "print(executor.client.get_open_orders())"
   ]
  }
 ],
 "metadata": {
  "kernelspec": {
   "display_name": "Python 3 (ipykernel)",
   "language": "python",
   "name": "python3"
  },
  "language_info": {
   "codemirror_mode": {
    "name": "ipython",
    "version": 3
   },
   "file_extension": ".py",
   "mimetype": "text/x-python",
   "name": "python",
   "nbconvert_exporter": "python",
   "pygments_lexer": "ipython3",
   "version": "3.10.2"
  }
 },
 "nbformat": 4,
 "nbformat_minor": 2
}
