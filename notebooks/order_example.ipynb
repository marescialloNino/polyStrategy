{
 "cells": [
  {
   "cell_type": "code",
   "execution_count": 1,
   "metadata": {},
   "outputs": [
    {
     "name": "stdout",
     "output_type": "stream",
     "text": [
      "Found 11 markets with 'nba' in slug\n",
      "Total markets found: 11\n",
      "Question: Rockets vs. Magic, Event ID: 528363, Volume: 165988.185223, Active: True, Enabled Order book: True\n",
      "clobTokenIds  [\"43186308813322774389511655009441265359358460001746875331763940432725323754100\", \"42475543248404210065990230898512565125915441850041772863138114442518722564349\"],\n",
      "Question: Mavericks vs. Pacers, Event ID: 528364, Volume: 118903.072778, Active: True, Enabled Order book: True\n",
      "clobTokenIds  [\"21666793519107110553825112963696295201139871889688131710582076581472267702286\", \"84110361824231682481656273790222065034367107919161812176865639635357181855701\"],\n",
      "Question: Pistons vs. Heat, Event ID: 528365, Volume: 69614.639507, Active: True, Enabled Order book: True\n",
      "clobTokenIds  [\"85904339173069230948579711819008479036336171745116659010524049782494847727992\", \"47430731082598180016768281342526340602096563589309714063079380071748556210795\"],\n",
      "Question: Pelicans vs. Timberwolves, Event ID: 528366, Volume: 219655.551431, Active: True, Enabled Order book: True\n",
      "clobTokenIds  [\"25257075965167059349271442606440943044128758057978890796263880460994586458692\", \"19126855962725014351649586887092105830963700349462232570450077226975058695592\"],\n",
      "Question: Knicks vs. Spurs, Event ID: 528367, Volume: 31825.050009, Active: True, Enabled Order book: True\n",
      "clobTokenIds  [\"93544474216589710723894187471237274443102888262182285860453596004116472913453\", \"12890067246258556792608226697866576792937503615409901078277248615879820945566\"],\n",
      "Question: 76ers vs. Thunder, Event ID: 528368, Volume: 84498.288067, Active: True, Enabled Order book: True\n",
      "clobTokenIds  [\"62143110046595801543411760277614183328332669851013028651773905920669902189183\", \"111483188285353350494679120265481319423847129461178935451878955887181910186295\"],\n",
      "Question: Wizards vs. Jazz, Event ID: 528369, Volume: 102166.323536, Active: True, Enabled Order book: True\n",
      "clobTokenIds  [\"72148764660704778053919953068552785553612917438902098244833878002444857444360\", \"55574279195173327793488331818585878336166336212725155400939180995123271699965\"],\n",
      "Question: Nuggets vs. Lakers, Event ID: 528370, Volume: 122602.558761, Active: True, Enabled Order book: True\n",
      "clobTokenIds  [\"32492086620507342324974397627166759029028988270452426850595930128870964798521\", \"51490804556645174395355917754559284791910266617570875817063333894005091532576\"],\n",
      "Question: Cavaliers vs. Kings, Event ID: 528371, Volume: 45354.383614, Active: True, Enabled Order book: True\n",
      "clobTokenIds  [\"21981077145159347555847198640415249349937997286888989699045620129819354876589\", \"40847521021386112717475040716457085206140463241833082676617539050324077834133\"],\n",
      "Question: Bulls vs. Suns, Event ID: 528372, Volume: 36133.766242, Active: True, Enabled Order book: True\n",
      "clobTokenIds  [\"19520545006080836940082745096591052246364504007134307613709486606201507506023\", \"91719944652284901315816891210181878208116062028902156943305994048523759018892\"],\n",
      "Question: Grizzlies vs. Trail Blazers, Event ID: 528373, Volume: 37337.183536, Active: True, Enabled Order book: True\n",
      "clobTokenIds  [\"25049420061173935174650531525000852806175914766494280974621421110078791711372\", \"93933384678025783476927399121001373622781442793633695663124433525761039066087\"],\n"
     ]
    }
   ],
   "source": [
    "from src.core.gamma_client import GammaMarketsClient\n",
    "from src.execution.order_executor import OrderExecutor\n",
    "from src.core.clob_client import PolymarketClient\n",
    "from py_clob_client.clob_types import ApiCreds, OrderArgs\n",
    "\n",
    "gamma_client = GammaMarketsClient()\n",
    "\n",
    "# Fetch active events with high liquidity and volume\n",
    "markets = gamma_client.get_markets(\n",
    "    closed=False,  # Exclude closed markets\n",
    "    liquidity_num_min=60000.0,  # Minimum liquidity\n",
    "    volume_num_min=5000.0,  # Minimum trading volume\n",
    "    start_date_min=\"2025-03-10\",  # Markets starting after this date\n",
    "    tag_id=1\n",
    "    \n",
    ")\n",
    "\n",
    "markets_key = gamma_client.filter_markets_by_slug_keyword(markets=markets, keyword=\"nba\")\n",
    "\n",
    "if markets_key:\n",
    "    print(f\"Total markets found: {len(markets_key)}\")\n",
    "    for market in markets_key:\n",
    "        # Safely access keys using .get() to avoid KeyError\n",
    "        question = market.get(\"question\", \"N/A\")\n",
    "        event_id = market.get(\"id\", \"N/A\")\n",
    "        volume = market.get(\"volume\", \"N/A\")  # Use .get() to handle missing keys\n",
    "        active = market.get(\"active\", \"N/A\")\n",
    "        closed = market.get(\"closed\", \"N/A\")\n",
    "        clobTokenIds = market.get(\"clobTokenIds\")\n",
    "        orderBook = market.get(\"enableOrderBook\", \"N/A\")\n",
    "        print(f\"Question: {question}, Event ID: {event_id}, Volume: {volume}, Active: {active}, Enabled Order book: {orderBook}\")\n",
    "        print(f\"clobTokenIds  {clobTokenIds},\")\n",
    "else:\n",
    "    print(\"No markets found matching the criteria.\")"
   ]
  },
  {
   "cell_type": "code",
   "execution_count": 4,
   "metadata": {},
   "outputs": [
    {
     "name": "stdout",
     "output_type": "stream",
     "text": [
      "PolymarketClient initialized with address: 0xA8fdCA71fa876ab477B3b5d4725292FFDacCd04F\n",
      "Order Book:\n",
      "OrderBookSummary(market='0xcb3906fe1cc346a08d4817a9e5abbd594d50101d2d70edf92dceeeed509a328d', asset_id='62697312879578878537492465609249634498018844363287127652537828808816942160117', timestamp='1742070112627', bids=[OrderSummary(price='0.01', size='557305'), OrderSummary(price='0.02', size='200000'), OrderSummary(price='0.03', size='23338'), OrderSummary(price='0.04', size='22222'), OrderSummary(price='0.05', size='50000'), OrderSummary(price='0.08', size='1250'), OrderSummary(price='0.1', size='150'), OrderSummary(price='0.13', size='400'), OrderSummary(price='0.14', size='1000'), OrderSummary(price='0.17', size='589'), OrderSummary(price='0.18', size='1000'), OrderSummary(price='0.35', size='286'), OrderSummary(price='0.36', size='300'), OrderSummary(price='0.37', size='990'), OrderSummary(price='0.41', size='2444'), OrderSummary(price='0.42', size='900'), OrderSummary(price='0.6', size='50'), OrderSummary(price='0.67', size='18974'), OrderSummary(price='0.69', size='400'), OrderSummary(price='0.7', size='1313.97'), OrderSummary(price='0.74', size='18197'), OrderSummary(price='0.75', size='10545'), OrderSummary(price='0.76', size='45'), OrderSummary(price='0.77', size='8376'), OrderSummary(price='0.78', size='2813'), OrderSummary(price='0.79', size='14154.51'), OrderSummary(price='0.8', size='31056.29'), OrderSummary(price='0.81', size='531.47')], asks=[OrderSummary(price='0.99', size='556055'), OrderSummary(price='0.98', size='205005'), OrderSummary(price='0.97', size='25556'), OrderSummary(price='0.96', size='50000'), OrderSummary(price='0.95', size='94160'), OrderSummary(price='0.94', size='12778'), OrderSummary(price='0.93', size='5000'), OrderSummary(price='0.9', size='59031.35'), OrderSummary(price='0.89', size='21194.36'), OrderSummary(price='0.88', size='33103'), OrderSummary(price='0.87', size='10572'), OrderSummary(price='0.86', size='3968'), OrderSummary(price='0.85', size='10218'), OrderSummary(price='0.84', size='13058'), OrderSummary(price='0.83', size='20426.63'), OrderSummary(price='0.82', size='1290.47')], hash='6520f391fa161f4c236ebc4b33af465cdac7656a')\n",
      "\n",
      "Market Information:\n",
      "Midpoint Price: 0.815\n",
      "Best Buy Price: 0.81\n",
      "Best Sell Price: 0.82\n",
      "Spread: 0.01\n"
     ]
    }
   ],
   "source": [
    "# Question: Will Arsenal finish in 2nd place for the 2024-25 EPL season?\n",
    "yes_token= \"40465031556608279901803453704591823162810651299818097010002629371896228132129\"\n",
    "\n",
    "client = PolymarketClient()\n",
    "\n",
    "# Retrieve order book information\n",
    "orderbook = client.get_order_book(yes_token)\n",
    "midpoint = client.get_midpoint_price(yes_token)\n",
    "best_buy = client.get_price(yes_token, \"BUY\")\n",
    "best_sell = client.get_price(yes_token, \"SELL\")\n",
    "spread = client.get_spread(yes_token)\n",
    "\n",
    "\n",
    "print(\"Order Book:\")\n",
    "print(orderbook)\n",
    "print(\"\\nMarket Information:\")\n",
    "print(f\"Midpoint Price: {midpoint}\")\n",
    "print(f\"Best Buy Price: {best_buy}\")\n",
    "print(f\"Best Sell Price: {best_sell}\")\n",
    "print(f\"Spread: {spread}\")"
   ]
  },
  {
   "cell_type": "code",
   "execution_count": 9,
   "metadata": {},
   "outputs": [
    {
     "name": "stdout",
     "output_type": "stream",
     "text": [
      "PolymarketClient initialized with address: 0xA8fdCA71fa876ab477B3b5d4725292FFDacCd04F\n"
     ]
    }
   ],
   "source": [
    "from py_clob_client.order_builder.constants import BUY, SELL\n",
    "\n",
    "\n",
    "# Instantiate the order executor\n",
    "executor = OrderExecutor()\n",
    "\n",
    "# Define a signal for a limit order.\n",
    "# In a real strategy, this signal would be generated dynamically.\n",
    "signal = {\n",
    "    \"token_id\": yes_token,\n",
    "    \"order_type\": \"limit\",\n",
    "    \"side\": \"BUY\",\n",
    "    \"price\": 0.10,      \n",
    "    \"quantity\": 5.0   \n",
    "}\n",
    "\n",
    "\n"
   ]
  },
  {
   "cell_type": "code",
   "execution_count": 11,
   "metadata": {},
   "outputs": [
    {
     "name": "stdout",
     "output_type": "stream",
     "text": [
      "Placing LIMIT order: BUY 5.0 of 62697312879578878537492465609249634498018844363287127652537828808816942160117 at 0.1\n",
      "\n",
      "Limit Order Response:\n",
      "{'errorMsg': '', 'orderID': '0x0714c38fca8239fa52ef1e3f3a68ef257141921db81df9abe801abb233e77e54', 'takingAmount': '', 'makingAmount': '', 'status': 'live', 'transactionsHashes': None, 'success': True}\n"
     ]
    }
   ],
   "source": [
    "\n",
    "\n",
    "response = executor.execute_signal(signal)\n",
    "print(\"\\nLimit Order Response:\")\n",
    "print(response)"
   ]
  },
  {
   "cell_type": "code",
   "execution_count": 13,
   "metadata": {},
   "outputs": [
    {
     "name": "stdout",
     "output_type": "stream",
     "text": [
      "Cancelling all orders.\n",
      "\n",
      "No order ID found in response; cannot cancel the order.\n"
     ]
    }
   ],
   "source": [
    "# If the order_response contains an order ID, cancel the order.\n",
    "order_id = response.get(\"orderId\") if isinstance(response, dict) else None\n",
    "executor.cancel_all_orders()\n",
    "if order_id:\n",
    "    print(f\"\\nOrder placed with ID: {order_id}. Now cancelling...\")\n",
    "    cancel_response = executor.cancel_order(order_id)\n",
    "    print(\"Cancel Order Response:\")\n",
    "    print(cancel_response)\n",
    "else:\n",
    "    print(\"\\nNo order ID found in response; cannot cancel the order.\")"
   ]
  },
  {
   "cell_type": "code",
   "execution_count": 12,
   "metadata": {},
   "outputs": [
    {
     "name": "stdout",
     "output_type": "stream",
     "text": [
      "\n",
      "Open Orders:\n",
      "[{'id': '0x0714c38fca8239fa52ef1e3f3a68ef257141921db81df9abe801abb233e77e54', 'status': 'LIVE', 'owner': '7bb51f33-4d47-0d39-b420-f933c332384f', 'maker_address': '0x6979603783972524560F94b1624E147C3435D7a2', 'market': '0xcb3906fe1cc346a08d4817a9e5abbd594d50101d2d70edf92dceeeed509a328d', 'asset_id': '62697312879578878537492465609249634498018844363287127652537828808816942160117', 'side': 'BUY', 'original_size': '5', 'size_matched': '0', 'price': '0.1', 'outcome': 'Celtics', 'expiration': '0', 'order_type': 'GTC', 'associate_trades': [], 'created_at': 1742070537}, {'id': '0x861e11be765df15f6862383dcdf9fd40fb7cf340b68c7b77e0bd659030b38725', 'status': 'LIVE', 'owner': '7bb51f33-4d47-0d39-b420-f933c332384f', 'maker_address': '0x6979603783972524560F94b1624E147C3435D7a2', 'market': '0xcb3906fe1cc346a08d4817a9e5abbd594d50101d2d70edf92dceeeed509a328d', 'asset_id': '62697312879578878537492465609249634498018844363287127652537828808816942160117', 'side': 'BUY', 'original_size': '5', 'size_matched': '0', 'price': '0.1', 'outcome': 'Celtics', 'expiration': '0', 'order_type': 'GTC', 'associate_trades': [], 'created_at': 1742070500}]\n"
     ]
    }
   ],
   "source": [
    "# Check orders\n",
    "print(\"\\nOpen Orders:\")\n",
    "print(executor.client.get_open_orders())\n"
   ]
  },
  {
   "cell_type": "code",
   "execution_count": null,
   "metadata": {},
   "outputs": [
    {
     "name": "stdout",
     "output_type": "stream",
     "text": [
      "Placing LIMIT order: BUY 5.0 of 29698297579308527847537871762106397437012761209817449145690502363235623683398 at 0.05\n",
      "Error in create_and_post_order: Invalid order inputs\n",
      "\n",
      "Limit Order Response:\n",
      "None\n",
      "\n",
      "Open Orders:\n",
      "[]\n",
      "Cancelling all orders.\n",
      "\n",
      "Open Orders After Cancel:\n",
      "[]\n"
     ]
    }
   ],
   "source": [
    "# Execute order\n",
    "response = executor.execute_signal(signal)\n",
    "print(\"\\nLimit Order Response:\")\n",
    "print(response)\n",
    "\n",
    "\n",
    "\n",
    "# Cancel all\n",
    "executor.cancel_all_orders()\n",
    "print(\"\\nOpen Orders After Cancel:\")\n",
    "print(executor.client.get_open_orders())"
   ]
  }
 ],
 "metadata": {
  "kernelspec": {
   "display_name": "Python 3 (ipykernel)",
   "language": "python",
   "name": "python3"
  }
 },
 "nbformat": 4,
 "nbformat_minor": 2
}
