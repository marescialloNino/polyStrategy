{
 "cells": [
  {
   "cell_type": "code",
   "execution_count": 1,
   "metadata": {},
   "outputs": [
    {
     "name": "stdout",
     "output_type": "stream",
     "text": [
      "Total markets found: 17\n",
      "Question: Celtics vs. Nets, Event ID: 527355, Volume: 302843.325957, Active: True, Enabled Order book: True\n",
      "clobTokenIds  [\"62697312879578878537492465609249634498018844363287127652537828808816942160117\", \"58869207313910862764544355046372409163802584381615059274538220105674199390869\"],\n",
      "Question: Thunder vs. Pistons, Event ID: 527356, Volume: 328942.997451, Active: True, Enabled Order book: True\n",
      "clobTokenIds  [\"103734567845577386331411540017683470270560244971152217082795322987723990736705\", \"75872647880446792147218502367796275661442278919232607881145429845766740958235\"],\n",
      "Question: Heat vs. Grizzlies, Event ID: 527357, Volume: 25759.009453, Active: True, Enabled Order book: True\n",
      "clobTokenIds  [\"114986298726194520574234424546878519679807370772755315214466201176256783751838\", \"105103329145737678361679988070384455426239597768130518565116050600851153029492\"],\n",
      "Question: Bulls vs. Rockets, Event ID: 527358, Volume: 35613.193372, Active: True, Enabled Order book: True\n",
      "clobTokenIds  [\"70340222646582829863401521734966884233488300796364308208392271858754369790169\", \"92288257276244953058745907191712012848039052682846250245470865894457751201555\"],\n",
      "Question: Pacers vs. Bucks, Event ID: 527359, Volume: 77708.666312, Active: True, Enabled Order book: True\n",
      "clobTokenIds  [\"57682649939665313553835523459374119284381426462653155349377950977135981568351\", \"74615201562822904849230625696235989792976681565595742060694717185505344369753\"],\n",
      "Question: Knicks vs. Warriors, Event ID: 527360, Volume: 100884.764538, Active: True, Enabled Order book: True\n",
      "clobTokenIds  [\"79946617742312725923180300724035957847019612689151231449175740853551719904513\", \"36957652721036078075354241913941603507988568621333132762015020697103591479671\"],\n",
      "Question: Pelicans vs. Spurs, Event ID: 527361, Volume: 205754.264849, Active: True, Enabled Order book: True\n",
      "clobTokenIds  [\"80594671185637103489274080630927069206961425829124111754740771604557185482724\", \"70591748940581351192957080077656013048676397355114187990280875049304444635103\"],\n",
      "Question: Wizards vs. Nuggets, Event ID: 527362, Volume: 57232.287831, Active: True, Enabled Order book: True\n",
      "clobTokenIds  [\"37983694513921052081177568728073533720670305318618680873839503384113862816616\", \"7274956354376294951813066392435632353968057611987525652711485705970375912647\"],\n",
      "Question: Devils vs. Penguins, Event ID: 527487, Volume: 171463.686179, Active: True, Enabled Order book: True\n",
      "clobTokenIds  [\"86704919715203798060582236884812418040518578805174156836024648002035319637945\", \"8307581206659672023425968624346799861301424242682221426927355944517850899405\"],\n",
      "Question: Rangers vs. Blue Jackets, Event ID: 527491, Volume: 25921.207645, Active: True, Enabled Order book: True\n",
      "clobTokenIds  [\"54720943061843366453855312327573616048259925460136461169446253219722592001691\", \"66399316538419871602206317571674412866577357685494534763522090343422250560200\"],\n",
      "Question: Lightning vs. Bruins, Event ID: 527493, Volume: 12531.806265, Active: True, Enabled Order book: True\n",
      "clobTokenIds  [\"47214708700914827966650404335655793376640004855867460150163464451003073895136\", \"17690964589319087085651405505475856819147275219308140975858322571187915160701\"],\n",
      "Question: Hurricanes vs. Flyers, Event ID: 527495, Volume: 22396.322819, Active: True, Enabled Order book: True\n",
      "clobTokenIds  [\"111412760156064233020471174024162064736639719336081557430975781834782888729074\", \"115254608900676394812666446544662605457514468201775035154695969883638571416470\"],\n",
      "Question: Panthers vs. Canadiens, Event ID: 527498, Volume: 10857.547195, Active: True, Enabled Order book: True\n",
      "clobTokenIds  [\"65837453074733521201172800270197651744934519482551603619021076100954872132337\", \"29445075468374038620668343338609373131974714450891367756914784295085009948197\"],\n",
      "Question: Senators vs. Maple Leafs, Event ID: 527500, Volume: 33281.94911, Active: True, Enabled Order book: True\n",
      "clobTokenIds  [\"43946149653840029364560619459118596205107486250199356759198519929180984251160\", \"33222296564742790510047185664329413961817993017069945489735908266830987293900\"],\n",
      "Question: Predators vs. Kings, Event ID: 527502, Volume: 99559.516745, Active: True, Enabled Order book: True\n",
      "clobTokenIds  [\"96624503761895409476967521662555811657967939340365627044911398908806985078246\", \"92841726416757353300496748053919178396327816576286591922302264310747367598308\"],\n",
      "Question: Blues vs. Wild, Event ID: 527504, Volume: 9216.694021, Active: True, Enabled Order book: True\n",
      "clobTokenIds  [\"15165678202113883072104414696887814553337868141067046295313378392494151928071\", \"60024339362060737502463944954679451853545920125874910781406453837366848874003\"],\n",
      "Question: Blackhawks vs. Canucks, Event ID: 527506, Volume: 24773.82454, Active: True, Enabled Order book: True\n",
      "clobTokenIds  [\"100506403462958030041857892755428341876022146470941922201934044522259225738588\", \"35504804961552181256701416570900966048772806583449592847272796914824659091529\"],\n"
     ]
    }
   ],
   "source": [
    "from src.core.gamma_client import GammaMarketsClient\n",
    "from src.execution.order_executor import OrderExecutor\n",
    "from src.core.clob_client import PolymarketClient\n",
    "from py_clob_client.clob_types import ApiCreds, OrderArgs\n",
    "\n",
    "gamma_client = GammaMarketsClient()\n",
    "\n",
    "# Fetch active events with high liquidity and volume\n",
    "markets = gamma_client.get_markets(\n",
    "    closed=False,  # Exclude closed markets\n",
    "    liquidity_num_min=60000.0,  # Minimum liquidity\n",
    "    volume_num_min=5000.0,  # Minimum trading volume\n",
    "    start_date_min=\"2025-03-05\",  # Markets starting after this date\n",
    "    tag_id=1\n",
    "    \n",
    ")\n",
    "\n",
    "if markets:\n",
    "    print(f\"Total markets found: {len(markets)}\")\n",
    "    for market in markets:\n",
    "        # Safely access keys using .get() to avoid KeyError\n",
    "        question = market.get(\"question\", \"N/A\")\n",
    "        event_id = market.get(\"id\", \"N/A\")\n",
    "        volume = market.get(\"volume\", \"N/A\")  # Use .get() to handle missing keys\n",
    "        active = market.get(\"active\", \"N/A\")\n",
    "        closed = market.get(\"closed\", \"N/A\")\n",
    "        clobTokenIds = market.get(\"clobTokenIds\")\n",
    "        orderBook = market.get(\"enableOrderBook\", \"N/A\")\n",
    "        print(f\"Question: {question}, Event ID: {event_id}, Volume: {volume}, Active: {active}, Enabled Order book: {orderBook}\")\n",
    "        print(f\"clobTokenIds  {clobTokenIds},\")\n",
    "else:\n",
    "    print(\"No markets found matching the criteria.\")"
   ]
  },
  {
   "cell_type": "code",
   "execution_count": 4,
   "metadata": {},
   "outputs": [
    {
     "name": "stdout",
     "output_type": "stream",
     "text": [
      "PolymarketClient initialized with address: 0xA8fdCA71fa876ab477B3b5d4725292FFDacCd04F\n",
      "Order Book:\n",
      "OrderBookSummary(market='0xcb3906fe1cc346a08d4817a9e5abbd594d50101d2d70edf92dceeeed509a328d', asset_id='62697312879578878537492465609249634498018844363287127652537828808816942160117', timestamp='1742070112627', bids=[OrderSummary(price='0.01', size='557305'), OrderSummary(price='0.02', size='200000'), OrderSummary(price='0.03', size='23338'), OrderSummary(price='0.04', size='22222'), OrderSummary(price='0.05', size='50000'), OrderSummary(price='0.08', size='1250'), OrderSummary(price='0.1', size='150'), OrderSummary(price='0.13', size='400'), OrderSummary(price='0.14', size='1000'), OrderSummary(price='0.17', size='589'), OrderSummary(price='0.18', size='1000'), OrderSummary(price='0.35', size='286'), OrderSummary(price='0.36', size='300'), OrderSummary(price='0.37', size='990'), OrderSummary(price='0.41', size='2444'), OrderSummary(price='0.42', size='900'), OrderSummary(price='0.6', size='50'), OrderSummary(price='0.67', size='18974'), OrderSummary(price='0.69', size='400'), OrderSummary(price='0.7', size='1313.97'), OrderSummary(price='0.74', size='18197'), OrderSummary(price='0.75', size='10545'), OrderSummary(price='0.76', size='45'), OrderSummary(price='0.77', size='8376'), OrderSummary(price='0.78', size='2813'), OrderSummary(price='0.79', size='14154.51'), OrderSummary(price='0.8', size='31056.29'), OrderSummary(price='0.81', size='531.47')], asks=[OrderSummary(price='0.99', size='556055'), OrderSummary(price='0.98', size='205005'), OrderSummary(price='0.97', size='25556'), OrderSummary(price='0.96', size='50000'), OrderSummary(price='0.95', size='94160'), OrderSummary(price='0.94', size='12778'), OrderSummary(price='0.93', size='5000'), OrderSummary(price='0.9', size='59031.35'), OrderSummary(price='0.89', size='21194.36'), OrderSummary(price='0.88', size='33103'), OrderSummary(price='0.87', size='10572'), OrderSummary(price='0.86', size='3968'), OrderSummary(price='0.85', size='10218'), OrderSummary(price='0.84', size='13058'), OrderSummary(price='0.83', size='20426.63'), OrderSummary(price='0.82', size='1290.47')], hash='6520f391fa161f4c236ebc4b33af465cdac7656a')\n",
      "\n",
      "Market Information:\n",
      "Midpoint Price: 0.815\n",
      "Best Buy Price: 0.81\n",
      "Best Sell Price: 0.82\n",
      "Spread: 0.01\n"
     ]
    }
   ],
   "source": [
    "# Question: Will Arsenal finish in 2nd place for the 2024-25 EPL season?\n",
    "yes_token= \"40465031556608279901803453704591823162810651299818097010002629371896228132129\"\n",
    "\n",
    "client = PolymarketClient()\n",
    "\n",
    "# Retrieve order book information\n",
    "orderbook = client.get_order_book(yes_token)\n",
    "midpoint = client.get_midpoint_price(yes_token)\n",
    "best_buy = client.get_price(yes_token, \"BUY\")\n",
    "best_sell = client.get_price(yes_token, \"SELL\")\n",
    "spread = client.get_spread(yes_token)\n",
    "\n",
    "\n",
    "print(\"Order Book:\")\n",
    "print(orderbook)\n",
    "print(\"\\nMarket Information:\")\n",
    "print(f\"Midpoint Price: {midpoint}\")\n",
    "print(f\"Best Buy Price: {best_buy}\")\n",
    "print(f\"Best Sell Price: {best_sell}\")\n",
    "print(f\"Spread: {spread}\")"
   ]
  },
  {
   "cell_type": "code",
   "execution_count": 9,
   "metadata": {},
   "outputs": [
    {
     "name": "stdout",
     "output_type": "stream",
     "text": [
      "PolymarketClient initialized with address: 0xA8fdCA71fa876ab477B3b5d4725292FFDacCd04F\n"
     ]
    }
   ],
   "source": [
    "from py_clob_client.order_builder.constants import BUY, SELL\n",
    "\n",
    "\n",
    "# Instantiate the order executor\n",
    "executor = OrderExecutor()\n",
    "\n",
    "# Define a signal for a limit order.\n",
    "# In a real strategy, this signal would be generated dynamically.\n",
    "signal = {\n",
    "    \"token_id\": yes_token,\n",
    "    \"order_type\": \"limit\",\n",
    "    \"side\": \"BUY\",\n",
    "    \"price\": 0.10,      \n",
    "    \"quantity\": 5.0   \n",
    "}\n",
    "\n",
    "\n"
   ]
  },
  {
   "cell_type": "code",
   "execution_count": 11,
   "metadata": {},
   "outputs": [
    {
     "name": "stdout",
     "output_type": "stream",
     "text": [
      "Placing LIMIT order: BUY 5.0 of 62697312879578878537492465609249634498018844363287127652537828808816942160117 at 0.1\n",
      "\n",
      "Limit Order Response:\n",
      "{'errorMsg': '', 'orderID': '0x0714c38fca8239fa52ef1e3f3a68ef257141921db81df9abe801abb233e77e54', 'takingAmount': '', 'makingAmount': '', 'status': 'live', 'transactionsHashes': None, 'success': True}\n"
     ]
    }
   ],
   "source": [
    "\n",
    "\n",
    "response = executor.execute_signal(signal)\n",
    "print(\"\\nLimit Order Response:\")\n",
    "print(response)"
   ]
  },
  {
   "cell_type": "code",
   "execution_count": 13,
   "metadata": {},
   "outputs": [
    {
     "name": "stdout",
     "output_type": "stream",
     "text": [
      "Cancelling all orders.\n",
      "\n",
      "No order ID found in response; cannot cancel the order.\n"
     ]
    }
   ],
   "source": [
    "# If the order_response contains an order ID, cancel the order.\n",
    "order_id = response.get(\"orderId\") if isinstance(response, dict) else None\n",
    "executor.cancel_all_orders()\n",
    "if order_id:\n",
    "    print(f\"\\nOrder placed with ID: {order_id}. Now cancelling...\")\n",
    "    cancel_response = executor.cancel_order(order_id)\n",
    "    print(\"Cancel Order Response:\")\n",
    "    print(cancel_response)\n",
    "else:\n",
    "    print(\"\\nNo order ID found in response; cannot cancel the order.\")"
   ]
  },
  {
   "cell_type": "code",
   "execution_count": 12,
   "metadata": {},
   "outputs": [
    {
     "name": "stdout",
     "output_type": "stream",
     "text": [
      "\n",
      "Open Orders:\n",
      "[{'id': '0x0714c38fca8239fa52ef1e3f3a68ef257141921db81df9abe801abb233e77e54', 'status': 'LIVE', 'owner': '7bb51f33-4d47-0d39-b420-f933c332384f', 'maker_address': '0x6979603783972524560F94b1624E147C3435D7a2', 'market': '0xcb3906fe1cc346a08d4817a9e5abbd594d50101d2d70edf92dceeeed509a328d', 'asset_id': '62697312879578878537492465609249634498018844363287127652537828808816942160117', 'side': 'BUY', 'original_size': '5', 'size_matched': '0', 'price': '0.1', 'outcome': 'Celtics', 'expiration': '0', 'order_type': 'GTC', 'associate_trades': [], 'created_at': 1742070537}, {'id': '0x861e11be765df15f6862383dcdf9fd40fb7cf340b68c7b77e0bd659030b38725', 'status': 'LIVE', 'owner': '7bb51f33-4d47-0d39-b420-f933c332384f', 'maker_address': '0x6979603783972524560F94b1624E147C3435D7a2', 'market': '0xcb3906fe1cc346a08d4817a9e5abbd594d50101d2d70edf92dceeeed509a328d', 'asset_id': '62697312879578878537492465609249634498018844363287127652537828808816942160117', 'side': 'BUY', 'original_size': '5', 'size_matched': '0', 'price': '0.1', 'outcome': 'Celtics', 'expiration': '0', 'order_type': 'GTC', 'associate_trades': [], 'created_at': 1742070500}]\n"
     ]
    }
   ],
   "source": [
    "# Check orders\n",
    "print(\"\\nOpen Orders:\")\n",
    "print(executor.client.get_open_orders())\n"
   ]
  },
  {
   "cell_type": "code",
   "execution_count": null,
   "metadata": {},
   "outputs": [
    {
     "name": "stdout",
     "output_type": "stream",
     "text": [
      "Placing LIMIT order: BUY 5.0 of 29698297579308527847537871762106397437012761209817449145690502363235623683398 at 0.05\n",
      "Error in create_and_post_order: Invalid order inputs\n",
      "\n",
      "Limit Order Response:\n",
      "None\n",
      "\n",
      "Open Orders:\n",
      "[]\n",
      "Cancelling all orders.\n",
      "\n",
      "Open Orders After Cancel:\n",
      "[]\n"
     ]
    }
   ],
   "source": [
    "# Execute order\n",
    "response = executor.execute_signal(signal)\n",
    "print(\"\\nLimit Order Response:\")\n",
    "print(response)\n",
    "\n",
    "\n",
    "\n",
    "# Cancel all\n",
    "executor.cancel_all_orders()\n",
    "print(\"\\nOpen Orders After Cancel:\")\n",
    "print(executor.client.get_open_orders())"
   ]
  }
 ],
 "metadata": {
  "kernelspec": {
   "display_name": "Python 3 (ipykernel)",
   "language": "python",
   "name": "python3"
  },
  "language_info": {
   "codemirror_mode": {
    "name": "ipython",
    "version": 3
   },
   "file_extension": ".py",
   "mimetype": "text/x-python",
   "name": "python",
   "nbconvert_exporter": "python",
   "pygments_lexer": "ipython3",
   "version": "3.10.2"
  }
 },
 "nbformat": 4,
 "nbformat_minor": 2
}
