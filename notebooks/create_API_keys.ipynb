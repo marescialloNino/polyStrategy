{
 "cells": [
  {
   "cell_type": "code",
   "execution_count": 16,
   "id": "b4984b67",
   "metadata": {},
   "outputs": [],
   "source": [
    "from py_clob_client.constants import POLYGON\n",
    "from py_clob_client.client import ClobClient\n",
    "from py_clob_client.clob_types import ApiCreds\n",
    "from dotenv import load_dotenv\n",
    "import os\n",
    "\n",
    "load_dotenv()\n",
    "\n",
    "\n",
    "host: str =  \"https://clob.polymarket.com\"\n",
    "key: str = os.getenv(\"POLYMARKET_KEY\")\n",
    "chain_id: int = POLYGON    \n",
    "public_address: str =os.getenv(\"POLYMARKET_FUNDER\")\n",
    "    \n",
    "# Initialization of a client using a Polymarket Proxy associated with an Email/Magic account\n",
    "client = ClobClient(host, key=key, chain_id=chain_id, signature_type=1, funder=public_address)\n",
    "\n",
    "creds = client.derive_api_key()\n",
    "\n",
    "api_key = creds.api_key\n",
    "api_pass = creds.api_passphrase\n",
    "api_secr = creds.api_secret\n"
   ]
  },
  {
   "cell_type": "code",
   "execution_count": 18,
   "id": "a7cc15d8",
   "metadata": {},
   "outputs": [
    {
     "name": "stdout",
     "output_type": "stream",
     "text": [
      "{'apiKeys': ['7bb51f33-4d47-0d39-b420-f933c332384f']}\n"
     ]
    }
   ],
   "source": [
    "creds = ApiCreds(\n",
    "    api_key=api_key,\n",
    "    api_secret=api_secr,\n",
    "    api_passphrase=api_pass,\n",
    ")\n",
    "\n",
    "\n",
    "client = ClobClient(\n",
    "    host=host,\n",
    "    key=key,\n",
    "    chain_id=chain_id,\n",
    "    funder=public_address,\n",
    "    signature_type=1,\n",
    "    creds=creds\n",
    ")\n",
    "\n",
    "print(client.get_api_keys())\n"
   ]
  },
  {
   "cell_type": "code",
   "execution_count": 15,
   "id": "cd95fb60",
   "metadata": {},
   "outputs": [],
   "source": [
    "\n",
    "\n",
    "\n",
    "\n",
    "\n"
   ]
  },
  {
   "cell_type": "code",
   "execution_count": null,
   "id": "3c64163a",
   "metadata": {},
   "outputs": [],
   "source": []
  },
  {
   "cell_type": "code",
   "execution_count": 22,
   "id": "bf7fb5ef",
   "metadata": {},
   "outputs": [
    {
     "name": "stdout",
     "output_type": "stream",
     "text": [
      "Wallet address: 0xA8fdCA71fa876ab477B3b5d4725292FFDacCd04F\n"
     ]
    }
   ],
   "source": [
    "print(f\"Wallet address: {client.get_address()}\")"
   ]
  }
 ],
 "metadata": {
  "kernelspec": {
   "display_name": "Python 3 (ipykernel)",
   "language": "python",
   "name": "python3"
  },
  "language_info": {
   "codemirror_mode": {
    "name": "ipython",
    "version": 3
   },
   "file_extension": ".py",
   "mimetype": "text/x-python",
   "name": "python",
   "nbconvert_exporter": "python",
   "pygments_lexer": "ipython3",
   "version": "3.10.2"
  }
 },
 "nbformat": 4,
 "nbformat_minor": 5
}
