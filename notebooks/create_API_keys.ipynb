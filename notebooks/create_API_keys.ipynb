{
 "cells": [
  {
   "cell_type": "code",
   "execution_count": 2,
   "id": "b4984b67",
   "metadata": {},
   "outputs": [
    {
     "name": "stdout",
     "output_type": "stream",
     "text": [
      "ApiCreds(api_key='7bb51f33-4d47-0d39-b420-f933c332384f', api_secret='Qbk3FPcthyRTBaidRQ6qOiuBv3Pmh--tPAilqTx1IKc=', api_passphrase='b8bbf3253af71564189fd6e7a2d013ecebe21d53c18b6caec388e2f4b7079c3f')\n"
     ]
    }
   ],
   "source": [
    "from py_clob_client.constants import POLYGON\n",
    "from py_clob_client.client import ClobClient\n",
    "from py_clob_client.clob_types import ApiCreds, OrderArgs\n",
    "from py_clob_client.order_builder.constants import BUY\n",
    "from dotenv import load_dotenv\n",
    "import os\n",
    "\n",
    "load_dotenv()\n",
    "\n",
    "\n",
    "host: str =  \"https://clob.polymarket.com\"\n",
    "key: str = os.getenv(\"POLYMARKET_KEY\")\n",
    "chain_id: int = POLYGON    \n",
    "public_address: str =os.getenv(\"POLYMARKET_FUNDER\")\n",
    "    \n",
    "# Initialization of a client using a Polymarket Proxy associated with an Email/Magic account\n",
    "client = ClobClient(host, key=key, chain_id=chain_id, signature_type=1, funder=public_address)\n",
    "\n",
    "creds = client.derive_api_key()\n",
    "\n",
    "api_key = creds.api_key\n",
    "api_pass = creds.api_passphrase\n",
    "api_secr = creds.api_secret\n"
   ]
  },
  {
   "cell_type": "code",
   "execution_count": 5,
   "id": "a7cc15d8",
   "metadata": {},
   "outputs": [],
   "source": [
    "creds = ApiCreds(\n",
    "    api_key=api_key,\n",
    "    api_secret=api_secr,\n",
    "    api_passphrase=api_pass,\n",
    ")\n",
    "\n",
    "\n",
    "client_authenticated = ClobClient(\n",
    "    host=host,\n",
    "    key=key,\n",
    "    chain_id=chain_id,\n",
    "    funder=public_address,\n",
    "    signature_type=1,\n",
    "    creds=creds\n",
    ")\n",
    "\n"
   ]
  },
  {
   "cell_type": "code",
   "execution_count": 7,
   "id": "50da51ae",
   "metadata": {},
   "outputs": [
    {
     "name": "stdout",
     "output_type": "stream",
     "text": [
      "{'errorMsg': '', 'orderID': '0xd2682b02ee667534330871b60e705e38df847b9286570179c10c416dbee2cf9b', 'takingAmount': '', 'makingAmount': '', 'status': 'live', 'transactionsHashes': None, 'success': True}\n",
      "[{'id': '0xd2682b02ee667534330871b60e705e38df847b9286570179c10c416dbee2cf9b', 'status': 'LIVE', 'owner': '7bb51f33-4d47-0d39-b420-f933c332384f', 'maker_address': '0x6979603783972524560F94b1624E147C3435D7a2', 'market': '0xe952c969c4c10391839c96a821081a979cd6c7ce8f122649df1c5bcf5c0aa15f', 'asset_id': '76297675425346804639834594460918066557100815653182384221082529082999688263896', 'side': 'BUY', 'original_size': '5', 'size_matched': '0', 'price': '0.03', 'outcome': 'Yes', 'expiration': '0', 'order_type': 'GTC', 'associate_trades': [], 'created_at': 1741466699}]\n"
     ]
    }
   ],
   "source": [
    "# Define the limit order parameters\n",
    "yes_token = \"76297675425346804639834594460918066557100815653182384221082529082999688263896\"\n",
    "price = 0.03  # Price in USDC (e.g., $0.03 per outcome token)\n",
    "size = 5.0    # Number of outcome tokens to buy\n",
    "side = BUY    # Buying the \"Yes\" outcome\n",
    "\n",
    "\n",
    "# Construct the order\n",
    "order_args = OrderArgs(\n",
    "    token_id=yes_token,\n",
    "    price=price,\n",
    "    size=size,\n",
    "    side=side\n",
    ")\n",
    "\n",
    "# Create and post the order\n",
    "response = client_authenticated.create_and_post_order(order_args)\n",
    "print(response)\n",
    "\n",
    "# Check open orders to confirm\n",
    "open_orders = client_authenticated.get_orders(params=None)\n",
    "print(open_orders)\n"
   ]
  },
  {
   "cell_type": "code",
   "execution_count": 8,
   "id": "e9978085",
   "metadata": {},
   "outputs": [
    {
     "name": "stdout",
     "output_type": "stream",
     "text": [
      "[]\n"
     ]
    }
   ],
   "source": [
    "cancel_response = client_authenticated.cancel_all()\n",
    "\n",
    "open_orders = client_authenticated.get_orders(params=None)\n",
    "print(open_orders)"
   ]
  },
  {
   "cell_type": "code",
   "execution_count": null,
   "id": "3c64163a",
   "metadata": {},
   "outputs": [],
   "source": []
  }
 ],
 "metadata": {
  "kernelspec": {
   "display_name": "Python 3 (ipykernel)",
   "language": "python",
   "name": "python3"
  },
  "language_info": {
   "codemirror_mode": {
    "name": "ipython",
    "version": 3
   },
   "file_extension": ".py",
   "mimetype": "text/x-python",
   "name": "python",
   "nbconvert_exporter": "python",
   "pygments_lexer": "ipython3",
   "version": "3.10.2"
  }
 },
 "nbformat": 4,
 "nbformat_minor": 5
}
